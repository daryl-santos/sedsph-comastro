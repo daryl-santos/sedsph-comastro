{
 "cells": [
  {
   "cell_type": "code",
   "execution_count": 1,
   "id": "6343407f",
   "metadata": {},
   "outputs": [],
   "source": [
    "import numpy as np"
   ]
  },
  {
   "cell_type": "markdown",
   "id": "b76eb425",
   "metadata": {},
   "source": [
    "1. Adjust your Gauss Elimination Python code to do partial pivoting before solving a system of equations\n",
    "with possible division by zero. To check if your code works, solve the following system with your code and\n",
    "with numpy.linalg.solve:\n",
    "\n",
    "<center>\n",
    "$x_1 − x_2 + x_3 = 2$ <br>\n",
    "$−6x_1 + x_2 − x_3 = 3$ <br>\n",
    "$3x_1 + x_2 + x_3 = 4$ <br>\n",
    "</center>\n"
   ]
  },
  {
   "cell_type": "code",
   "execution_count": 2,
   "id": "9723606e",
   "metadata": {},
   "outputs": [
    {
     "name": "stdout",
     "output_type": "stream",
     "text": [
      "Matrix A: \n",
      " [[ 1. -1.  1.]\n",
      " [-6.  1. -1.]\n",
      " [ 3.  1.  1.]]\n",
      "Matrix B: \n",
      " [[2.]\n",
      " [3.]\n",
      " [4.]]\n",
      "Matrix A after partial pivoting: \n",
      " [[-6.  1. -1.]\n",
      " [ 1. -1.  1.]\n",
      " [ 3.  1.  1.]]\n",
      "Matrix B after partial pivoting: \n",
      " [[3.]\n",
      " [2.]\n",
      " [4.]]\n",
      "Augmented matrix\n",
      "[[-6.          1.         -1.          3.        ]\n",
      " [ 0.         -0.83333333  0.83333333  2.5       ]\n",
      " [ 0.          0.          2.         10.        ]]\n",
      "5.0\n",
      "[-1.  2.  5.]\n"
     ]
    }
   ],
   "source": [
    "a = np.array([[1,-1,1],[-6,1,-1],[3,1,1]], dtype=float)      # Variable matrix\n",
    "b = np.array([[2],[3],[4]], dtype=float)                     # Constant vector\n",
    "n = len(b)\n",
    "x = np.zeros(n, float)\n",
    "print('Matrix A: \\n {0}'.format(a))\n",
    "print('Matrix B: \\n {0}'.format(b))\n",
    "\n",
    "# The simplest way to revise the code is add the following lines\n",
    "if np.abs(a[0,0]) < np.abs(a[1,0]):\n",
    "    a[[0, 1]] = a[[1, 0]]       # this is how you swap two rows\n",
    "    b[[0, 1]] = b[[1, 0]]       # this is how you swap two elements\n",
    "elif np.abs(a[0,0]) < np.abs(a[2,0]):\n",
    "    a[[0, 2]] = a[[2, 0]]\n",
    "    b[[0, 2]] = b[[2, 0]]\n",
    "    \n",
    "print('Matrix A after partial pivoting: \\n {0}'.format(a))\n",
    "print('Matrix B after partial pivoting: \\n {0}'.format(b))\n",
    "\n",
    "# forward elimination\n",
    "for k in range(n):                                     # for matrix a, for each orig row k, starting at top\n",
    "    for i in range(k+1,n):                             # get the next row i, first column element\n",
    "        factor = a[i,k]/a[k,k]                         # and use it to get the factor\n",
    "        for j in range(k,n):                           # then for the elements in each column of next row i,\n",
    "            a[i,j] = a[i,j] - a[k,j]*factor            # calculate original values of next row i minus orig row k times factor \n",
    "        b[i] = b[i] - b[k]*factor                      # for matrix b, original value at next row i minus orig row k times factor\n",
    "\n",
    "print('Augmented matrix')\n",
    "print(np.concatenate((a,b), axis=1))                   # display result after forward elimination\n",
    "\n",
    "# back substitution\n",
    "x[n-1] = b[n-1]/a[n-1,n-1]                            # get last value of solution matrix\n",
    "print(x[n-1])\n",
    "\n",
    "for i in range(n-2,-1,-1):                             # \n",
    "    Sum = b[i]\n",
    "    for j in range(i+1, n):\n",
    "        Sum = Sum - a[i,j]*x[j]\n",
    "    x[i] = Sum/a[i,i]\n",
    "    \n",
    "print(x)"
   ]
  },
  {
   "cell_type": "code",
   "execution_count": 3,
   "id": "4d71842c",
   "metadata": {},
   "outputs": [
    {
     "name": "stdout",
     "output_type": "stream",
     "text": [
      "[[-1.]\n",
      " [ 2.]\n",
      " [ 5.]]\n"
     ]
    },
    {
     "data": {
      "text/plain": [
       "True"
      ]
     },
     "execution_count": 3,
     "metadata": {},
     "output_type": "execute_result"
    }
   ],
   "source": [
    "X_py = np.linalg.solve(a,b)\n",
    "print(X_py)\n",
    "# Check if solution is correct\n",
    "np.allclose(np.dot(a,X_py), b) # True if arrays are element-wuse equal"
   ]
  },
  {
   "cell_type": "markdown",
   "id": "f6c994a1",
   "metadata": {},
   "source": [
    "2. Try solving the earlier example with your code, now with partial pivoting (30 pts.):\n",
    "$$\\begin{bmatrix} 25 & 5 & 1  ⁝ 106.8 \\\\ 64 & 8 & 1  ⁝ 177.2 \\\\ 144 & 12 & 1  ⁝ 279.2\\end{bmatrix}$$\n",
    "\n",
    "Do not forget to check your answers with numpy.linalg.solve"
   ]
  },
  {
   "cell_type": "code",
   "execution_count": 4,
   "id": "de958a87",
   "metadata": {},
   "outputs": [
    {
     "name": "stdout",
     "output_type": "stream",
     "text": [
      "Matrix A: \n",
      " [[ 25.   5.   1.]\n",
      " [ 64.   8.   1.]\n",
      " [144.  12.   1.]]\n",
      "Matrix B: \n",
      " [[106.8]\n",
      " [177.2]\n",
      " [279.2]]\n",
      "Matrix A after partial pivoting: \n",
      " [[ 64.   8.   1.]\n",
      " [ 25.   5.   1.]\n",
      " [144.  12.   1.]]\n",
      "Matrix B after partial pivoting: \n",
      " [[177.2]\n",
      " [106.8]\n",
      " [279.2]]\n",
      "Augmented matrix\n",
      "[[ 64.         8.         1.       177.2     ]\n",
      " [  0.         1.875      0.609375  37.58125 ]\n",
      " [  0.         0.         0.7        0.76    ]]\n",
      "1.0857142857142725\n",
      "[ 0.29047619 19.69047619  1.08571429]\n"
     ]
    }
   ],
   "source": [
    "# I just copy pasted the cell above, with a and b revised\n",
    "\n",
    "a = np.array([[25,5,1],[64,8,1],[144,12,1]], dtype=float)      # Variable matrix\n",
    "b = np.array([[106.8],[177.2],[279.2]], dtype=float)           # Constant vector\n",
    "n = len(b)\n",
    "x = np.zeros(n, float)\n",
    "print('Matrix A: \\n {0}'.format(a))\n",
    "print('Matrix B: \\n {0}'.format(b))\n",
    "\n",
    "# The simplest way to revise the code is add the following lines\n",
    "if np.abs(a[0,0]) < np.abs(a[1,0]):\n",
    "    a[[0, 1]] = a[[1, 0]]       # this is how you swap two rows\n",
    "    b[[0, 1]] = b[[1, 0]]       # this is how you swap two elements\n",
    "elif np.abs(a[0,0]) < np.abs(a[2,0]):\n",
    "    a[[0, 2]] = a[[2, 0]]\n",
    "    b[[0, 2]] = b[[2, 0]]\n",
    "    \n",
    "print('Matrix A after partial pivoting: \\n {0}'.format(a))\n",
    "print('Matrix B after partial pivoting: \\n {0}'.format(b))\n",
    "\n",
    "# forward elimination\n",
    "for k in range(n):                                     # for matrix a, for each orig row k, starting at top\n",
    "    for i in range(k+1,n):                             # get the next row i, first column element\n",
    "        factor = a[i,k]/a[k,k]                         # and use it to get the factor\n",
    "        for j in range(k,n):                           # then for the elements in each column of next row i,\n",
    "            a[i,j] = a[i,j] - a[k,j]*factor            # calculate original values of next row i minus orig row k times factor \n",
    "        b[i] = b[i] - b[k]*factor                      # for matrix b, original value at next row i minus orig row k times factor\n",
    "\n",
    "print('Augmented matrix')\n",
    "print(np.concatenate((a,b), axis=1))                   # display result after forward elimination\n",
    "\n",
    "# back substitution\n",
    "x[n-1] = b[n-1]/a[n-1,n-1]                            # get last value of solution matrix\n",
    "print(x[n-1])\n",
    "\n",
    "for i in range(n-2,-1,-1):                             # \n",
    "    Sum = b[i]\n",
    "    for j in range(i+1, n):\n",
    "        Sum = Sum - a[i,j]*x[j]\n",
    "    x[i] = Sum/a[i,i]\n",
    "    \n",
    "print(x)"
   ]
  },
  {
   "cell_type": "code",
   "execution_count": 5,
   "id": "a55726a9",
   "metadata": {},
   "outputs": [
    {
     "name": "stdout",
     "output_type": "stream",
     "text": [
      "[[ 0.29047619]\n",
      " [19.69047619]\n",
      " [ 1.08571429]]\n"
     ]
    },
    {
     "data": {
      "text/plain": [
       "True"
      ]
     },
     "execution_count": 5,
     "metadata": {},
     "output_type": "execute_result"
    }
   ],
   "source": [
    "X_py = np.linalg.solve(a,b)\n",
    "print(X_py)\n",
    "# Check if solution is correct\n",
    "np.allclose(np.dot(a,X_py), b) # True if arrays are element-wuse equal"
   ]
  }
 ],
 "metadata": {
  "kernelspec": {
   "display_name": "Python 3",
   "language": "python",
   "name": "python3"
  },
  "language_info": {
   "codemirror_mode": {
    "name": "ipython",
    "version": 3
   },
   "file_extension": ".py",
   "mimetype": "text/x-python",
   "name": "python",
   "nbconvert_exporter": "python",
   "pygments_lexer": "ipython3",
   "version": "3.8.8"
  }
 },
 "nbformat": 4,
 "nbformat_minor": 5
}
