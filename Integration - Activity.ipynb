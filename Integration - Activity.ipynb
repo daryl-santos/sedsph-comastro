{
 "cells": [
  {
   "cell_type": "markdown",
   "id": "8f67bbff",
   "metadata": {},
   "source": [
    "# Session 2: Computational Methods\n",
    "## Topic 3: Integration\n",
    "\n",
    "This ipython notebook is to be used to start the following activities during lecture.\n",
    "You will need to execute every cell in this notebook to complete your task.\n",
    "Some cells will require your input before executing.\n",
    "They are clearly marked.\n",
    "\n",
    "Recall that each of these cells (like the one you are reading)\n",
    "can be modified by double mouse clicking on the cell,\n",
    "and then executed by pressing `shift+enter`."
   ]
  },
  {
   "cell_type": "code",
   "execution_count": null,
   "id": "bb37ebef",
   "metadata": {},
   "outputs": [],
   "source": [
    "# cell #1\n",
    "# You do not need to modify this cell.\n",
    "# It is used to import some code dependencies.\n",
    "\n",
    "import numpy as np\n",
    "import math\n",
    "import matplotlib.pyplot as plt\n",
    "from scipy.integrate import quad"
   ]
  },
  {
   "cell_type": "markdown",
   "id": "35413b3d",
   "metadata": {},
   "source": [
    "Main reference: https://python.plainenglish.io/how-is-numerical-integration-done-using-python-4585344e5800"
   ]
  },
  {
   "cell_type": "markdown",
   "id": "e86199e5",
   "metadata": {},
   "source": [
    "## Midpoint rule"
   ]
  },
  {
   "cell_type": "code",
   "execution_count": null,
   "id": "b47591c0",
   "metadata": {},
   "outputs": [],
   "source": [
    "def f(x):\n",
    "    return 3*x**3 - 2*x**2 + 2"
   ]
  },
  {
   "cell_type": "code",
   "execution_count": null,
   "id": "cb575834",
   "metadata": {},
   "outputs": [],
   "source": [
    "def midpoint(a, b, n):\n",
    "    res = 0                 # initialize result variable\n",
    "    h = (b - a) / n         # calculate number of steps\n",
    "    x = a + (h / 2)         # starting midpoint\n",
    "\n",
    "    # evaluate f(x) at subsequent midpoints\n",
    "    ... write loop here ...\n",
    "\n",
    "    # multiply final result by step size\n",
    "    return ... write result here ..."
   ]
  },
  {
   "cell_type": "code",
   "execution_count": null,
   "id": "3ddc78fe",
   "metadata": {},
   "outputs": [],
   "source": [
    "print(midpoint(a=0, b=3, n=50))"
   ]
  },
  {
   "cell_type": "markdown",
   "id": "18cc6bf5",
   "metadata": {},
   "source": [
    "# Trapezoidal rule"
   ]
  },
  {
   "cell_type": "code",
   "execution_count": null,
   "id": "b99b8d5f",
   "metadata": {},
   "outputs": [],
   "source": [
    "# trapezoidal rule\n",
    "\n",
    "def trapezoid(a, b, n):\n",
    "    res = 0                 # initialize result variable\n",
    "    h = (b - a) / n         # calculate number of steps\n",
    "    x = a                   # start at a\n",
    "\n",
    "    # sum 2*yi (1 ≤ i ≤ n-1)\n",
    "    ... write loop here for res ...\n",
    "    ... then multiply res by 2 ...\n",
    "\n",
    "    # evaluate function at a and b and add to final result\n",
    "    ... then add f(a) and f(b) to res ...\n",
    "\n",
    "    # divide h by 2 and multiply by bracketed term\n",
    "    return ... write result here ..."
   ]
  },
  {
   "cell_type": "code",
   "execution_count": null,
   "id": "21503fc3",
   "metadata": {},
   "outputs": [],
   "source": [
    "print(trapezoid(a=0, b=3, n=50))"
   ]
  },
  {
   "cell_type": "markdown",
   "id": "2101ea83",
   "metadata": {},
   "source": [
    "Taken from: \\\n",
    "https://www.codesansar.com/numerical-methods/simpsons-13-method-python-program.htm \\\n",
    "https://www.codesansar.com/numerical-methods/simpsons-38-method-python-program.htm"
   ]
  },
  {
   "cell_type": "markdown",
   "id": "048c1398",
   "metadata": {},
   "source": [
    "## Simpson's 1/3 rule vs. Composite Simpson's 1/3 rule"
   ]
  },
  {
   "cell_type": "code",
   "execution_count": null,
   "id": "2c3214ca",
   "metadata": {},
   "outputs": [],
   "source": [
    "# Define function to integrate\n",
    "def f(x):\n",
    "    return math.e**x"
   ]
  },
  {
   "cell_type": "code",
   "execution_count": null,
   "id": "f2fba02c",
   "metadata": {},
   "outputs": [],
   "source": [
    "def simpson13(a,b):\n",
    "    ... write code and result here (hint: there's no loop here!) ...\n",
    "\n",
    "print(simpson13(a=0,b=4))"
   ]
  },
  {
   "cell_type": "code",
   "execution_count": null,
   "id": "6a8a84ae",
   "metadata": {},
   "outputs": [],
   "source": [
    "def comp_simpson13(a, b, n):\n",
    "    \n",
    "    h = (b - a) / n     # calculating step sizev\n",
    "    res = f(a) + f(b)   # initialize sum     \n",
    "    \n",
    "    ... use for loop to select all x values between a and b\n",
    "    \n",
    "    for i in range(... ,...):\n",
    "        k = a + i*h\n",
    "        \n",
    "        ... use if-else statement and modulo (%) to evaluate the odd and even summation ...\n",
    "    \n",
    "    # Finding final res value\n",
    "    ... write the final result ....\n",
    "    \n",
    "    return res\n",
    "    \n",
    "result = comp_simpson13(a=0, b=4, n=4)\n",
    "print(result)"
   ]
  },
  {
   "cell_type": "markdown",
   "id": "edcecb27",
   "metadata": {},
   "source": [
    "## Simpson's 3/8 rule vs. Composite Simpson's 3/8 rule"
   ]
  },
  {
   "cell_type": "code",
   "execution_count": null,
   "id": "aa118c4b",
   "metadata": {},
   "outputs": [],
   "source": [
    "def simpson38(a,b):\n",
    "    ... write code and result here (hint: there's no loop here!) ...\n",
    "\n",
    "print(simpson38(a=0,b=4))"
   ]
  },
  {
   "cell_type": "code",
   "execution_count": null,
   "id": "9c3c6886",
   "metadata": {},
   "outputs": [],
   "source": [
    "def comp_simpson38(a, b, n):\n",
    "    \n",
    "    h = (b - a) / n     # calculating step sizev\n",
    "    res = f(a) + f(b)   # initialize sum     \n",
    "    \n",
    "    ... use for loop to select all x values between a and b\n",
    "    \n",
    "    for i in range(... ,...):\n",
    "        k = a + i*h\n",
    "        \n",
    "        ... use if-else statement and modulo (%) to evaluate the summation via divisibility by 3...\n",
    "    \n",
    "    # Finding final res value\n",
    "    ... write the final result ....\n",
    "    \n",
    "    return res\n",
    "    \n",
    "result = comp_simpson38(a=0, b=4, n=4)\n",
    "print(result)"
   ]
  },
  {
   "cell_type": "markdown",
   "id": "ae14d64d",
   "metadata": {},
   "source": [
    "# Pythonic way"
   ]
  },
  {
   "cell_type": "code",
   "execution_count": null,
   "id": "53b1a37e",
   "metadata": {},
   "outputs": [],
   "source": [
    "result = quad(f, a=0, b=4)\n",
    "print(result) # result and absolute error"
   ]
  },
  {
   "cell_type": "code",
   "execution_count": null,
   "id": "9ba98225",
   "metadata": {},
   "outputs": [],
   "source": [
    "# Define function to integrate\n",
    "def f(x):\n",
    "    return 3*x**3 - 2*x**2 + 2\n",
    "\n",
    "result = quad(f, a=0, b=3)\n",
    "print(result) # result and absolute error"
   ]
  }
 ],
 "metadata": {
  "kernelspec": {
   "display_name": "Python 3",
   "language": "python",
   "name": "python3"
  },
  "language_info": {
   "codemirror_mode": {
    "name": "ipython",
    "version": 3
   },
   "file_extension": ".py",
   "mimetype": "text/x-python",
   "name": "python",
   "nbconvert_exporter": "python",
   "pygments_lexer": "ipython3",
   "version": "3.8.8"
  }
 },
 "nbformat": 4,
 "nbformat_minor": 5
}
