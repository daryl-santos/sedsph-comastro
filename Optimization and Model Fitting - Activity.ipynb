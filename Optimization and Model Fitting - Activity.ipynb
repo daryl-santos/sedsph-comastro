{
 "cells": [
  {
   "cell_type": "markdown",
   "id": "7965188d",
   "metadata": {},
   "source": [
    "# Session 2: Computational Methods\n",
    "## Topic 4: Optimization and Model Fitting\n",
    "\n",
    "This ipython notebook is to be used to start the following activities during lecture.\n",
    "You will need to execute every cell in this notebook to complete your task.\n",
    "Some cells will require your input before executing.\n",
    "They are clearly marked.\n",
    "\n",
    "Recall that each of these cells (like the one you are reading)\n",
    "can be modified by double mouse clicking on the cell,\n",
    "and then executed by pressing `shift+enter`."
   ]
  },
  {
   "cell_type": "code",
   "execution_count": 1,
   "id": "6e7a8ac1",
   "metadata": {},
   "outputs": [],
   "source": [
    "# cell #1\n",
    "# You do not need to modify this cell.\n",
    "# It is used to import some code dependencies.\n",
    "\n",
    "import numpy as np\n",
    "import math\n",
    "import matplotlib.pyplot as plt\n",
    "from scipy.optimize import minimize\n",
    "from scipy.optimize import curve_fit\n",
    "from uncertainties import ufloat"
   ]
  },
  {
   "cell_type": "markdown",
   "id": "a6753ed5",
   "metadata": {},
   "source": [
    "# Optimization"
   ]
  },
  {
   "cell_type": "markdown",
   "id": "0b7ff706",
   "metadata": {},
   "source": [
    "Main reference: https://www.youtube.com/watch?v=cXHvC_FGx24&ab_channel=APMonitor.com"
   ]
  },
  {
   "cell_type": "code",
   "execution_count": 2,
   "id": "921fc2dc",
   "metadata": {},
   "outputs": [],
   "source": [
    "# Example 1\n",
    "\n",
    "def objective(x):\n",
    "    return ... write function ...\n",
    "\n",
    "def constraint1(x):\n",
    "    return ... write function where all terms are on one side ...\n",
    "\n",
    "def constraint2(x):\n",
    "    sum_eq = 40.0\n",
    "    for i in range(4):\n",
    "        sum_eq = sum_eq - x[i]**2\n",
    "    return sum_eq\n",
    "\n",
    "# initial guesses\n",
    "n = 4\n",
    "x0 = np.zeros(n)\n",
    "x0[0] = 1.0\n",
    "x0[1] = 5.0\n",
    "x0[2] = 5.0\n",
    "x0[3] = 1.0\n",
    "\n",
    "# show initial objective\n",
    "print('Initial Objective: ' + str(objective(x0)))\n",
    "\n",
    "# optimize\n",
    "b = (1.0,5.0)\n",
    "bnds = (b, b, b, b)\n",
    "con1 = {'type': 'ineq', 'fun': constraint1}\n",
    "con2 = {'type': 'eq', 'fun': constraint2}\n",
    "cons = ([con1,con2])\n",
    "solution = minimize(objective,x0,method='SLSQP',\\\n",
    "                    bounds=bnds,constraints=cons)\n",
    "x = solution.x\n",
    "\n",
    "# show final objective\n",
    "print('Final Objective: ' + str(objective(x)))\n",
    "\n",
    "# print solution\n",
    "print('Solution')\n",
    "print('x1 = ' + str(x[0]))\n",
    "print('x2 = ' + str(x[1]))\n",
    "print('x3 = ' + str(x[2]))\n",
    "print('x4 = ' + str(x[3]))"
   ]
  },
  {
   "cell_type": "markdown",
   "id": "416b8ea4",
   "metadata": {},
   "source": [
    "Main reference: https://www.youtube.com/watch?v=M7ZA9fq2zCE&ab_channel=eMasterClassAcademy"
   ]
  },
  {
   "cell_type": "code",
   "execution_count": null,
   "id": "3f00515d",
   "metadata": {},
   "outputs": [],
   "source": [
    "# Example 2\n",
    "\n",
    "... write your own objective, constraint1, and constraint2 ...\n",
    "\n",
    "b = (-100,100)\n",
    "bounds = (b,b)\n",
    "\n",
    "... define your constraint type and function ...\n",
    "\n",
    "... solve for the solution via the minimize function, don't forget to define the bounds ...\n",
    "\n",
    "... print solution.x ..."
   ]
  },
  {
   "cell_type": "code",
   "execution_count": null,
   "id": "68b47187",
   "metadata": {},
   "outputs": [],
   "source": [
    "... solve for the solution, but this time for the maximum, not the minimum value ...\n",
    "... print solution.x ..."
   ]
  },
  {
   "cell_type": "markdown",
   "id": "72811bd8",
   "metadata": {},
   "source": [
    "## Linear fitting"
   ]
  },
  {
   "cell_type": "markdown",
   "id": "f613a73a",
   "metadata": {},
   "source": [
    "Main reference: https://www.statology.org/line-of-best-fit-python/"
   ]
  },
  {
   "cell_type": "code",
   "execution_count": null,
   "id": "e2ca9a52",
   "metadata": {},
   "outputs": [],
   "source": [
    "#define data\n",
    "x = np.array([1, 2, 3, 4, 5, 6, 7, 8])\n",
    "y = np.array([2, 5, 6, 7, 9, 12, 16, 19])\n",
    "\n",
    "#find line of best fit\n",
    "... use np.polyfit to fit x and y ... # equation = y = ax + b\n",
    "\n",
    "#add points to plot\n",
    "plt.scatter(x, y, color='purple')\n",
    "\n",
    "#add line of best fit to plot\n",
    "... use your results in np.polyfit ...\n",
    "\n",
    "#add fitted regression equation to plot\n",
    "plt.text(1, 17, 'y = ' + '{:.2f}'.format(b) + ' + {:.2f}'.format(a) + 'x', size=14)"
   ]
  },
  {
   "cell_type": "markdown",
   "id": "08bf7103",
   "metadata": {},
   "source": [
    "## Fitting higher order of polynomials"
   ]
  },
  {
   "cell_type": "markdown",
   "id": "a5879296",
   "metadata": {},
   "source": [
    "Main reference: https://blog.finxter.com/np-polyfit/"
   ]
  },
  {
   "cell_type": "code",
   "execution_count": null,
   "id": "eb539393",
   "metadata": {},
   "outputs": [],
   "source": [
    "#-----POLYNOMIAL FIT----\n",
    "x = np.array([1.2,2.5,3.4,4.0,5.4,6.1,7.2,8.1,9.0,10.1,11.2,12.3,13.4,14.1,15.0]) # x coordinates\n",
    "y = np.array([24.8,24.5,24.0,23.3,22.4,21.3,20.0,18.5,16.8,14.9,12.8,10.5,8.0,5.3,2.4]) # y coordinates\n",
    "\n",
    "... use np.polyfit to fit a 2nd degree polynomial...\n",
    "... get coefficients and write an equation to represent the fitted equation ...\n",
    "\n",
    "... plot your results ..."
   ]
  },
  {
   "cell_type": "markdown",
   "id": "81e9e77b",
   "metadata": {},
   "source": [
    "## Fitting with errors and confidence intervals"
   ]
  },
  {
   "cell_type": "markdown",
   "id": "37c96c56",
   "metadata": {},
   "source": [
    "Main reference: https://stackoverflow.com/questions/39434402/how-to-get-confidence-intervals-from-curve-fit"
   ]
  },
  {
   "cell_type": "code",
   "execution_count": null,
   "id": "db5ccde2",
   "metadata": {},
   "outputs": [],
   "source": [
    "# model function\n",
    "func = lambda x, a, b: a * (1 / (x**2)) + b \n",
    "\n",
    "# create x values\n",
    "n_ypoints = 7 \n",
    "x_data = np.linspace(70, 190, n_ypoints)\n",
    "\n",
    "# approximating the original scatter in Y-data\n",
    "n_nested_points = 1000\n",
    "point_errors = 50\n",
    "y_data = [func(x, 4e6, -100) + np.random.normal(x, point_errors,\n",
    "          n_nested_points) for x in x_data]\n",
    "\n",
    "# averages and dispersion of data\n",
    "y_means = np.array(y_data).mean(axis = 1)\n",
    "y_spread = np.array(y_data).std(axis = 1)\n",
    "\n",
    "best_fit_ab, covar = curve_fit(func, x_data, y_means, sigma = y_spread, absolute_sigma = True) \n",
    "# If you have absolute uncertainties in your data, i.e. if the units of your \n",
    "# y_errors are the same as units of your ydata, then you should set \n",
    "# absolute_sigma= = True\n",
    "sigma_ab = np.sqrt(np.diagonal(covar)) # +- errors of a and b\n",
    "\n",
    "a = ufloat(best_fit_ab[0], sigma_ab[0])\n",
    "b = ufloat(best_fit_ab[1], sigma_ab[1])\n",
    "text_res = \"Best fit parameters:\\na = {}\\nb = {}\".format(a, b)\n",
    "print(text_res)\n",
    "\n",
    "# plotting the averaged data with calculated dispersion\n",
    "plt.scatter(x_data, y_means, facecolor = 'silver', alpha = 1)\n",
    "plt.errorbar(x_data, y_means, y_spread, fmt = 'none', ecolor = 'black')\n",
    "\n",
    "# plotting the model\n",
    "x = np.linspace(50, 190, 100)\n",
    "\n",
    "... plot x and y data points, and the best fit with the confidence intervals as shown below using plt.fill_between...\n",
    "\n",
    "bound_upper = func(x, *(best_fit_ab + sigma_ab))\n",
    "bound_lower = func(x, *(best_fit_ab - sigma_ab))"
   ]
  }
 ],
 "metadata": {
  "kernelspec": {
   "display_name": "Python 3",
   "language": "python",
   "name": "python3"
  },
  "language_info": {
   "codemirror_mode": {
    "name": "ipython",
    "version": 3
   },
   "file_extension": ".py",
   "mimetype": "text/x-python",
   "name": "python",
   "nbconvert_exporter": "python",
   "pygments_lexer": "ipython3",
   "version": "3.8.8"
  }
 },
 "nbformat": 4,
 "nbformat_minor": 5
}
