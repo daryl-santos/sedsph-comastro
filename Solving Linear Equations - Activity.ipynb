{
 "cells": [
  {
   "cell_type": "markdown",
   "id": "ecd58101",
   "metadata": {},
   "source": [
    "# Session 1: Computational Methods\n",
    "## Topic 1: Solving Linear Equations\n",
    "\n",
    "This ipython notebook is to be used to start the following activities during lecture.\n",
    "You will need to execute every cell in this notebook to complete your task.\n",
    "Some cells will require your input before executing.\n",
    "They are clearly marked.\n",
    "\n",
    "Recall that each of these cells (like the one you are reading)\n",
    "can be modified by double mouse clicking on the cell,\n",
    "and then executed by pressing `shift+enter`."
   ]
  },
  {
   "cell_type": "code",
   "execution_count": null,
   "id": "6343407f",
   "metadata": {},
   "outputs": [],
   "source": [
    "# cell #1\n",
    "# You do not need to modify this cell.\n",
    "# It is used to import some code dependencies.\n",
    "\n",
    "import numpy as np\n",
    "from scipy.optimize import fsolve\n",
    "import math\n",
    "import matplotlib.pyplot as plt\n"
   ]
  },
  {
   "cell_type": "markdown",
   "id": "b76eb425",
   "metadata": {},
   "source": [
    "# 1. System of 3 equations"
   ]
  },
  {
   "cell_type": "code",
   "execution_count": null,
   "id": "ac580ec9",
   "metadata": {},
   "outputs": [],
   "source": [
    "# cell #2\n",
    "a = np.array([[1,1,-3],[-1,2,0],[1,-1,1]], dtype=float) # Variable matrix\n",
    "b = np.array([[9],[6],[5]], dtype=float)                # Constant vector\n",
    "n = len(b)\n",
    "x = np.zeros(n, float)\n",
    "print('Matrix A: \\n {0}'.format(a))\n",
    "print('Matrix B: \\n {0}'.format(b))\n",
    "\n",
    "# forward elimination\n",
    "...perform the forward elimination code here...\n",
    "print('Augmented matrix')\n",
    "print(np.concatenate((a,b), axis=1))                   # display result after forward elimination\n",
    "\n",
    "# back substitution\n",
    "...perform the back substitution code here...\n",
    "    \n",
    "print('Answer:',x)"
   ]
  },
  {
   "cell_type": "markdown",
   "id": "14af195b",
   "metadata": {},
   "source": [
    "## Pythonic way: numpy.linalg.solve"
   ]
  },
  {
   "cell_type": "code",
   "execution_count": null,
   "id": "9d8a7362",
   "metadata": {},
   "outputs": [],
   "source": [
    "# cell #3\n",
    "...perform numpy.linalg.solve here..."
   ]
  },
  {
   "cell_type": "markdown",
   "id": "01b3b306",
   "metadata": {},
   "source": [
    "# System of non-linear equations"
   ]
  },
  {
   "cell_type": "markdown",
   "id": "87223dc2",
   "metadata": {},
   "source": [
    "## Pythonic way: scipy.optimize.fsolve"
   ]
  },
  {
   "cell_type": "code",
   "execution_count": null,
   "id": "07496d38",
   "metadata": {},
   "outputs": [],
   "source": [
    "# cell #4\n",
    "... define func(x) first ....\n",
    "\n",
    "root = fsolve(func, [1,1]) # [1,1] as estimate for the roots of func(x)\n",
    "print(root)\n",
    "\n",
    "... check if solution is correct ..."
   ]
  },
  {
   "cell_type": "markdown",
   "id": "c0f6bff2",
   "metadata": {},
   "source": [
    "## Find the roots of a polynomial"
   ]
  },
  {
   "cell_type": "code",
   "execution_count": null,
   "id": "dc1ef41b",
   "metadata": {},
   "outputs": [],
   "source": [
    "# cell #5\n",
    "def f(x):\n",
    "    return 2.0*x**2 + 3.0*x - 10.0\n",
    "\n",
    "... plot f(x) and its roots ...\n",
    "\n",
    "... use fsolve and print answer ...\n",
    "\n",
    "# Additional questions:\n",
    "# What happens if you try -3 instead of 1?\n",
    "# How do you revise this code so that you can get both roots in just one fsolve?"
   ]
  },
  {
   "cell_type": "markdown",
   "id": "205f53b6",
   "metadata": {},
   "source": [
    "# Improving accuracy of fsolve\n",
    "\n",
    "Based on https://stackoverflow.com/questions/39132786/need-to-improve-accuracy-in-fsolve-to-find-multiples-roots"
   ]
  },
  {
   "cell_type": "code",
   "execution_count": null,
   "id": "08e6231f",
   "metadata": {},
   "outputs": [],
   "source": [
    "# cell #6\n",
    "a = -1.5\n",
    "def f(x):\n",
    "    return -(x+5) + 10/(1+np.exp(-x-a))\n",
    "\n",
    "... plot the original function and the fitted function together ...\n",
    "\n",
    "... get the real roots using np.roots ..."
   ]
  }
 ],
 "metadata": {
  "kernelspec": {
   "display_name": "Python 3",
   "language": "python",
   "name": "python3"
  },
  "language_info": {
   "codemirror_mode": {
    "name": "ipython",
    "version": 3
   },
   "file_extension": ".py",
   "mimetype": "text/x-python",
   "name": "python",
   "nbconvert_exporter": "python",
   "pygments_lexer": "ipython3",
   "version": "3.8.8"
  }
 },
 "nbformat": 4,
 "nbformat_minor": 5
}
